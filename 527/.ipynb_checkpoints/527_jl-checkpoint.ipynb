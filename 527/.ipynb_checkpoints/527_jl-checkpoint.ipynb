{
 "cells": [
  {
   "cell_type": "code",
   "execution_count": 1,
   "metadata": {},
   "outputs": [
    {
     "data": {
      "text/plain": [
       "R (generic function with 1 method)"
      ]
     },
     "execution_count": 1,
     "metadata": {},
     "output_type": "execute_result"
    }
   ],
   "source": [
    "function R(n)\n",
    "   R = BigFloat(1)\n",
    "   for i in 1:n\n",
    "       R = (1 / i^2) * ((i^2 - 1)*R + 2* i - 1)\n",
    "   end\n",
    "   return R\n",
    "end"
   ]
  },
  {
   "cell_type": "code",
   "execution_count": 2,
   "metadata": {},
   "outputs": [
    {
     "ename": "LoadError",
     "evalue": "\u001b[91mInterruptException:\u001b[39m",
     "output_type": "error",
     "traceback": [
      "\u001b[91mInterruptException:\u001b[39m",
      "",
      "Stacktrace:",
      " [1] \u001b[1mBigInt\u001b[22m\u001b[22m\u001b[1m(\u001b[22m\u001b[22m\u001b[1m)\u001b[22m\u001b[22m at \u001b[1m./gmp.jl:50\u001b[22m\u001b[22m",
      " [2] \u001b[1m^\u001b[22m\u001b[22m at \u001b[1m./gmp.jl:455\u001b[22m\u001b[22m [inlined]",
      " [3] \u001b[1mbigint_pow\u001b[22m\u001b[22m\u001b[1m(\u001b[22m\u001b[22m::BigInt, ::Int64\u001b[1m)\u001b[22m\u001b[22m at \u001b[1m./gmp.jl:477\u001b[22m\u001b[22m",
      " [4] \u001b[1mR\u001b[22m\u001b[22m\u001b[1m(\u001b[22m\u001b[22m::Int64\u001b[1m)\u001b[22m\u001b[22m at \u001b[1m./In[1]:5\u001b[22m\u001b[22m"
     ]
    }
   ],
   "source": [
    "@time R(10^7)"
   ]
  },
  {
   "cell_type": "code",
   "execution_count": null,
   "metadata": {},
   "outputs": [],
   "source": []
  }
 ],
 "metadata": {
  "kernelspec": {
   "display_name": "Julia 0.6.4",
   "language": "julia",
   "name": "julia-0.6"
  },
  "language_info": {
   "file_extension": ".jl",
   "mimetype": "application/julia",
   "name": "julia",
   "version": "0.6.4"
  }
 },
 "nbformat": 4,
 "nbformat_minor": 2
}
