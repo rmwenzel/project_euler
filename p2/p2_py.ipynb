{
 "cells": [
  {
   "cell_type": "markdown",
   "metadata": {},
   "source": [
    "We want to find all Fibonacci numbers $F_n < 4 x 10^6$. First "
   ]
  },
  {
   "cell_type": "code",
   "execution_count": 19,
   "metadata": {},
   "outputs": [],
   "source": [
    "import numpy as np\n",
    "\n",
    "def fib_list(upper_bound):\n",
    "    \"\"\"Generate an ordered ndarray of Fibonnacis <= upper_bound\"\"\"\n",
    "    fibs = np.array([1, 1])\n",
    "    while fibs[-1] <= upper_bound:\n",
    "        fibs = np.append(fibs, fibs[-1] + fibs[-2])\n",
    "    return fibs[:-1]"
   ]
  },
  {
   "cell_type": "code",
   "execution_count": 26,
   "metadata": {
    "scrolled": true
   },
   "outputs": [
    {
     "data": {
      "text/plain": [
       "4613732"
      ]
     },
     "execution_count": 26,
     "metadata": {},
     "output_type": "execute_result"
    }
   ],
   "source": [
    "fibs = fib_list(4*10**6)\n",
    "sum(fibs[fibs % 2 == 0])"
   ]
  }
 ],
 "metadata": {
  "kernelspec": {
   "display_name": "Python 3",
   "language": "python",
   "name": "python3"
  },
  "language_info": {
   "codemirror_mode": {
    "name": "ipython",
    "version": 3
   },
   "file_extension": ".py",
   "mimetype": "text/x-python",
   "name": "python",
   "nbconvert_exporter": "python",
   "pygments_lexer": "ipython3",
   "version": "3.6.5"
  }
 },
 "nbformat": 4,
 "nbformat_minor": 2
}
