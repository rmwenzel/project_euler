{
 "cells": [
  {
   "cell_type": "markdown",
   "metadata": {},
   "source": [
    "## A recursive formula for $B(n)$\n",
    "\n",
    "We can use the following [result from probability theory](https://en.wikipedia.org/wiki/Law_of_total_expectation#Proof_of_partition_formula) -- if $X$ is a random variable on a sample space $\\Omega$ and ${A_i}$ is a finite partition of $\\Omega$ then\n",
    "\n",
    "$$\\begin{equation} E[X] = \\sum_{i}E[X| A_i]P(A_i) \\end{equation}$$\n",
    "\n",
    "First, let $X$ be the number of guesses for fixed $n$ as a random variable, so that $B(n) = E[X]$. Then using the above result we can write\n",
    "\n",
    "$$\\begin{equation} B(n) = E[X\\ |\\ t = g]P(t\\ = g) + E[X\\ |\\ t\\ < g]P(t\\ < g) + E[X\\ |\\ t > g]P(t > g)\\end{equation}$$\n",
    "\n",
    "Now, since $t$ is guessed at random, we're using the uniform distribution so \n",
    "\n",
    "$$\\begin{align}P(t\\ = g) &= \\frac{1}{n}\\\\ P(t < g) &= \\frac{g - 1}{n}\\\\ P(t > g) &= \\frac{n - g}{n}\\end{align}$$\n",
    "\n",
    "and it's not hard to see that \n",
    "\n",
    "$$\\begin{align} E[X\\ |\\ t\\ = g] &= 1\\\\ E[X\\ |\\ t\\ < g] &= B(g - 1) + 1 \\\\ E[X\\ |\\ t\\ < g] &= B(n - g) + 1\\end{align}$$\n",
    "\n",
    "so we can rewrite $B(n)$\n",
    "\n",
    "$$\\begin{equation} B(n) = \\frac{1}{n} + \\frac{g - 1}{n}\\big(B(g - 1) + 1\\big) + \\frac{n - g}{n}\\big(B(n - g) + 1\\big) \\end{equation}$$\n",
    "\n",
    "Note this recursion holds for any choice of $g$.\n",
    "\n",
    "## Computing $B(n)$\n",
    "\n",
    "Since we have a recursive formula for $B(n)$ we'll use recursion to compute it. We can save a lot of time using memoization. A [cool way to do this in Python](http://ujihisa.blogspot.com/2010/11/memoized-recursive-fibonacci-in-python.html) in Python uses decorators. With the following all-purpose decorator:"
   ]
  },
  {
   "cell_type": "code",
   "execution_count": 4,
   "metadata": {},
   "outputs": [],
   "source": [
    "def memoize(f):\n",
    "    d = {}\n",
    "    def f_dec(*args):\n",
    "        if args in d:\n",
    "            return d[args]\n",
    "        else:\n",
    "            d[args] = f(*args)\n",
    "            return d[args]\n",
    "    return f_dec"
   ]
  },
  {
   "cell_type": "markdown",
   "metadata": {},
   "source": [
    "We can memoize a recursive definition of `B(n)`"
   ]
  },
  {
   "cell_type": "code",
   "execution_count": 5,
   "metadata": {},
   "outputs": [],
   "source": [
    "@memoize\n",
    "def B(n):\n",
    "    if n == 0:\n",
    "        return 0\n",
    "    elif n == 1:\n",
    "        return 1\n",
    "    else:\n",
    "        g = (n + 1) // 2\n",
    "        return (1/n) + ((g - 1) / n) * (B(g - 1) + 1) + ((n - g) / n) * (B(n - g) + 1)"
   ]
  },
  {
   "cell_type": "markdown",
   "metadata": {},
   "source": [
    "Running a few tests for sanity checks"
   ]
  },
  {
   "cell_type": "code",
   "execution_count": 6,
   "metadata": {},
   "outputs": [
    {
     "name": "stdout",
     "output_type": "stream",
     "text": [
      "B(1) = 1\n",
      "B(2) = 1.5\n",
      "B(3) = 1.66666667\n",
      "B(4) = 2.0\n",
      "B(5) = 2.2\n",
      "B(6) = 2.33333333\n"
     ]
    }
   ],
   "source": [
    "for n in range(1, 7):\n",
    "    print(\"B({}) = {}\".format(round(n, 8), round(B(n), 8)))"
   ]
  },
  {
   "cell_type": "markdown",
   "metadata": {},
   "source": [
    "## A recursive formula for $R(n)$\n",
    "\n",
    "Again, let $X$ be the expected number of guesses, so that $R(n) = E[X]$. Let $G$ denote the first random choice of $g$ and $T$ the first random choice of $T$. Then again using total probability,\n",
    "\n",
    "$$\\begin{align} E[X] &= \\sum_{g = 1}^n E[X| G = g]P(G = g) \\\\\n",
    "&= \\frac{1}{n}\\left(\\sum_{g = 1}^n E[X| G = g]\\right)\\\\\n",
    " \\end{align}$$\n",
    " \n",
    "and as above\n",
    "\n",
    "$$\\begin{align} E[X | G = g] &=(1)\\frac{1}{n} + (R(g -1) + 1)\\frac{g - 1}{n} + (R(n - g) + 1)\\frac{n - g}{n}\n",
    " \\end{align}$$\n",
    "\n",
    "(just like (9) above) hence\n",
    "\n",
    "$$\\begin{align} \n",
    "R(n) &= \\frac{1}{n}\\left(\\sum_{g = 1}^n \\frac{1}{n} + (R(g - 1) + 1)\\frac{g - 1}{n} + (R(n - g) + 1)\\frac{n - g}{n}\\right)\\\\\n",
    "&= \\frac{1}{n^2}\\left(\\sum_{g = 0}^{n - 1} 2g(R(g) + 1) + 1\\right)\n",
    "\\end{align}$$\n",
    "\n",
    "Incidentally, this \"full history\" recurrence can be converted to the \"limited history\" recurrence:\n",
    "\n",
    "$$\\begin{align} \n",
    "R(n) &= \\frac{1}{n^2}\\left((n^2 - 1)R(n - 1) + 2n - 1\\right)\n",
    "\\end{align}$$\n",
    "\n",
    "## Computing $R(n)$\n",
    "\n",
    "We'll code the recurrence (15) iteratively (to avoid Python max recursion depth errors). Also, to get a performance boost we'll use [Cython](http://cython.readthedocs.io/en/latest/src/tutorial/cython_tutorial.html)"
   ]
  },
  {
   "cell_type": "code",
   "execution_count": 7,
   "metadata": {},
   "outputs": [
    {
     "name": "stdout",
     "output_type": "stream",
     "text": [
      "The cython extension is already loaded. To reload it, use:\n",
      "  %reload_ext cython\n"
     ]
    }
   ],
   "source": [
    "%load_ext cython"
   ]
  },
  {
   "cell_type": "code",
   "execution_count": 8,
   "metadata": {},
   "outputs": [],
   "source": [
    "%%cython \n",
    "def R(long double n):\n",
    "    cdef long double R, i\n",
    "    R, i = 1, 1\n",
    "    while i < n + 1:\n",
    "        R = (1 / i ** 2) * ((i**2 - 1)*R + 2*i - 1)\n",
    "        i += 1\n",
    "    return R"
   ]
  },
  {
   "cell_type": "markdown",
   "metadata": {},
   "source": [
    "Sanity checks"
   ]
  },
  {
   "cell_type": "code",
   "execution_count": 9,
   "metadata": {},
   "outputs": [
    {
     "name": "stdout",
     "output_type": "stream",
     "text": [
      "R(1) = 1.0\n",
      "R(2) = 1.5\n",
      "R(3) = 1.88888889\n",
      "R(4) = 2.20833333\n",
      "R(5) = 2.48\n",
      "R(6) = 2.71666667\n"
     ]
    }
   ],
   "source": [
    "for n in range(1, 7):\n",
    "    print(\"R({}) = {}\".format(round(n, 8), round(R(n), 8)))"
   ]
  },
  {
   "cell_type": "markdown",
   "metadata": {},
   "source": [
    "The moment of truth!"
   ]
  },
  {
   "cell_type": "code",
   "execution_count": 72,
   "metadata": {},
   "outputs": [
    {
     "data": {
      "text/plain": [
       "11.92412011606923717"
      ]
     },
     "execution_count": 72,
     "metadata": {},
     "output_type": "execute_result"
    }
   ],
   "source": [
    "R(10**10) - B(10**10)"
   ]
  }
 ],
 "metadata": {
  "kernelspec": {
   "display_name": "Python 3",
   "language": "python",
   "name": "python3"
  },
  "language_info": {
   "codemirror_mode": {
    "name": "ipython",
    "version": 3
   },
   "file_extension": ".py",
   "mimetype": "text/x-python",
   "name": "python",
   "nbconvert_exporter": "python",
   "pygments_lexer": "ipython3",
   "version": "3.6.5"
  }
 },
 "nbformat": 4,
 "nbformat_minor": 2
}
